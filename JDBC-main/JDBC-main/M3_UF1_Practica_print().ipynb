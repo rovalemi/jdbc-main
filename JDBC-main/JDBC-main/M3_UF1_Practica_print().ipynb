{
  "nbformat": 4,
  "nbformat_minor": 0,
  "metadata": {
    "colab": {
      "provenance": [],
      "authorship_tag": "ABX9TyMt+oFMhOADHsgecH2yW/Rm",
      "include_colab_link": true
    },
    "kernelspec": {
      "name": "python3",
      "display_name": "Python 3"
    },
    "language_info": {
      "name": "python"
    }
  },
  "cells": [
    {
      "cell_type": "markdown",
      "metadata": {
        "id": "view-in-github",
        "colab_type": "text"
      },
      "source": [
        "<a href=\"https://colab.research.google.com/github/quintasc/JDBC/blob/main/M3_UF1_Practica_print().ipynb\" target=\"_parent\"><img src=\"https://colab.research.google.com/assets/colab-badge.svg\" alt=\"Open In Colab\"/></a>"
      ]
    },
    {
      "cell_type": "markdown",
      "source": [
        "# **Ejercicio 1**\n",
        "\n",
        "---\n",
        "\n"
      ],
      "metadata": {
        "id": "0fmG3rk9MbID"
      }
    },
    {
      "cell_type": "markdown",
      "source": [
        "Escribe un programa que llame 2 veces a la función print() para mostrar en líneas separadas tu nombre completo. En la 1ra línea aparecerá el nombre y en la siguiente los apellidos."
      ],
      "metadata": {
        "id": "6khvKPpSMqmn"
      }
    },
    {
      "cell_type": "code",
      "execution_count": null,
      "metadata": {
        "id": "KLTCPFdNLR6f"
      },
      "outputs": [],
      "source": []
    },
    {
      "cell_type": "markdown",
      "source": [
        "\n",
        "# **Ejercicio 2**\n",
        "\n",
        "---\n",
        "\n"
      ],
      "metadata": {
        "id": "zMU7XJAENBXr"
      }
    },
    {
      "cell_type": "markdown",
      "source": [
        "Modifica el programa anterior para que el nombre y los apellidos se muestren en la misma línea. Sigue llamando 2 veces a la función print(). Usa el parámetro end."
      ],
      "metadata": {
        "id": "F5X6wVe1NK2j"
      }
    },
    {
      "cell_type": "code",
      "source": [],
      "metadata": {
        "id": "YkGJk7gcNVth"
      },
      "execution_count": null,
      "outputs": []
    },
    {
      "cell_type": "markdown",
      "source": [
        "# **Ejercicio 3**\n",
        "\n",
        "---\n",
        "\n"
      ],
      "metadata": {
        "id": "eCy1OoKXNWaz"
      }
    },
    {
      "cell_type": "markdown",
      "source": [
        "Con un solo print() muestra tu nombre completo de forma que entre cada palabra aparezca un guión bajo o underscore (\"_\"). Usa el parámetro sep."
      ],
      "metadata": {
        "id": "-LtdCQSmNkLj"
      }
    },
    {
      "cell_type": "code",
      "source": [],
      "metadata": {
        "id": "s8joL3LJi-Or"
      },
      "execution_count": null,
      "outputs": []
    },
    {
      "cell_type": "markdown",
      "source": [
        "# **Ejercicio 4**\n",
        "\n",
        "---\n",
        "\n"
      ],
      "metadata": {
        "id": "YKgFr9Y5jErR"
      }
    },
    {
      "cell_type": "markdown",
      "source": [
        "Modifica el programa anterior para que usando algún código de escape se muestre una palabra por línea. Sólo debes usar un print()."
      ],
      "metadata": {
        "id": "gJuJ_3iOjK-Y"
      }
    },
    {
      "cell_type": "code",
      "source": [],
      "metadata": {
        "id": "aZh2bWXLjs8W"
      },
      "execution_count": null,
      "outputs": []
    },
    {
      "cell_type": "markdown",
      "source": [
        "# **Ejercicio 5**\n",
        "\n",
        "---\n",
        "\n"
      ],
      "metadata": {
        "id": "ygA3cLQzj5on"
      }
    },
    {
      "cell_type": "markdown",
      "source": [
        "Modifica el programa anterior para añadir tu número de teléfono en una nueva línea. Sólo debes usar un print()."
      ],
      "metadata": {
        "id": "JG6whVBbkBTh"
      }
    },
    {
      "cell_type": "code",
      "source": [],
      "metadata": {
        "id": "uV87e4QRkcGU"
      },
      "execution_count": null,
      "outputs": []
    },
    {
      "cell_type": "markdown",
      "source": [
        "# **Ejercicio 6**\n",
        "\n",
        "---\n",
        "\n"
      ],
      "metadata": {
        "id": "-zOD05WH0TJp"
      }
    },
    {
      "cell_type": "markdown",
      "source": [
        "Escribe en 2 columnas una lista de elementos. En la columna de la izquierda aparecerá el nombre de un producto y en la de la derecha su precio en euros (con decimales). Las palabras deben estar alineadas a la izquierda.\n",
        "\n",
        "![Lista.png](data:image/png;base64,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)"
      ],
      "metadata": {
        "id": "7FFtN7DA0YNR"
      }
    },
    {
      "cell_type": "code",
      "source": [],
      "metadata": {
        "id": "6d7OLc6Z1Ayh"
      },
      "execution_count": null,
      "outputs": []
    },
    {
      "cell_type": "markdown",
      "source": [
        "# **Ejercicio 7**\n",
        "\n",
        "---\n",
        "\n"
      ],
      "metadata": {
        "id": "WaSUlcL_kcxF"
      }
    },
    {
      "cell_type": "markdown",
      "source": [
        "Escribe un programa que muestre tu horario REAL de clase. El aspecto del horario debe ser similar al que se adjunta como ejemplo:\n",
        "\n",
        "![Horario.png](data:image/png;base64,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)\n",
        "\n",
        "\n",
        "\n",
        "\n",
        "\n",
        "\n"
      ],
      "metadata": {
        "id": "kWkwFirTlznA"
      }
    },
    {
      "cell_type": "code",
      "source": [],
      "metadata": {
        "id": "pzbU2b43vNSa"
      },
      "execution_count": null,
      "outputs": []
    },
    {
      "cell_type": "markdown",
      "source": [
        "# **Ejercicio 8**\n",
        "\n",
        "---\n",
        "\n"
      ],
      "metadata": {
        "id": "4AcoqyUqvN57"
      }
    },
    {
      "cell_type": "markdown",
      "source": [
        "Modifica el programa anterior añadiendo colores. Puedes mostrar cada asignatura\n",
        "de un color de fondo o de texto diferente.\n",
        "\n",
        "\n",
        "![HorarioColor.png](data:image/png;base64,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)"
      ],
      "metadata": {
        "id": "xh__xWJSvTPB"
      }
    },
    {
      "cell_type": "code",
      "source": [],
      "metadata": {
        "id": "EKalDiU3xYUP"
      },
      "execution_count": null,
      "outputs": []
    },
    {
      "cell_type": "markdown",
      "source": [
        "# **Ejercicio 9**\n",
        "\n",
        "---\n",
        "\n"
      ],
      "metadata": {
        "id": "Uncfy3UPxZYc"
      }
    },
    {
      "cell_type": "markdown",
      "source": [
        "Escribe un programa que pinte por pantalla una pirámide rellena a base de\n",
        "asteriscos. La base de la pirámide debe estar formada por 9 asteriscos. Usa el operador * para imprimir repetidas veces un caracter.\n",
        "\n",
        "![Piramide.png](data:image/png;base64,iVBORw0KGgoAAAANSUhEUgAAAEsAAABPCAIAAAAsva+rAAAAAXNSR0IArs4c6QAAAARnQU1BAACxjwv8YQUAAAAJcEhZcwAADsMAAA7DAcdvqGQAAAGXSURBVHhe7Za9SkNBEEZ9f7TVdxCLkE4rfzAxYhkFQTEggYBgpUYU7xXhFroD2Z07O2O+8J1ult3iMCycrXbToSE+NMSHhvjQEB8a4hNp+PH0MHv+6oYwggyb1/vJ6Ho0HF5Mz69my+40hKgdNm+P4/3d7Z29g8v5sukOQ4ja4cvtydHkeDA4HR+e3W3kDn94n09vFp/dEEak4f9AQ3xoiA8N8aGhhaS00/AOCnEnw6S00/CODHGvHSalnYZ3YIh77fBvaafhHRninv8wKe00vINC3NNwPaAhPjTEh4b40FBDJq1z5e1U4pUMM2mdK2/PEq+1w0xa58rbscRr7XB1WufK27PEa/7DTFrnytupxGsaric0xIeG+NAQHxquQpnSyuti7klPQ2VKK6+L2ULfHSpTWnldzAb67lCX0srrYrZg+YfKlFZeF3NPLIYY0BAfGuJDQ3xo+BtjOhufi7mQQkNjOhufi1lD6Q6N6Wx8LmYFpTu0pbPxuZg1aP6hMZ2Nz8VciMYQExriQ0N8aIgPDfGhITpt+w2Y4T9GPW5IMwAAAABJRU5ErkJggg==)"
      ],
      "metadata": {
        "id": "zwLgVG2Ox21L"
      }
    },
    {
      "cell_type": "code",
      "source": [],
      "metadata": {
        "id": "6IdDYk2ty3DW"
      },
      "execution_count": null,
      "outputs": []
    },
    {
      "cell_type": "markdown",
      "source": [
        "# **Ejercicio 10 (EXTRA)**\n",
        "\n",
        "---\n",
        "\n"
      ],
      "metadata": {
        "id": "KORhMtU-y3ue"
      }
    },
    {
      "cell_type": "markdown",
      "source": [
        "Escribe un programa que pinte por pantalla alguna escena - el campo, la\n",
        "habitación de una casa, un aula, etc. - o algún objeto animado o inanimado - un coche, un gato, una taza de café, etc. Ten en cuenta que puedes utilizar\n",
        "caracteres como *, +, <, #, @, etc. o incluso caracteres Unicode. ¡Échale\n",
        "imaginación!\n",
        "\n",
        "![Flor.png](data:image/png;base64,iVBORw0KGgoAAAANSUhEUgAAAG0AAACACAIAAACOQHBdAAAAAXNSR0IArs4c6QAAAARnQU1BAACxjwv8YQUAAAAJcEhZcwAADsMAAA7DAcdvqGQAABKsSURBVHhe7Z39jyxZWcdr7szU63k/derUS9dbV3V1d3V3TfdM3+mZO2y7G9Gg4ksCMQZFosgvBgMRCD+ARlYSAhElUaMhxriILCEs4rqg0Qj8aT4zt+9y73p39+7djpfdW58fOqlO1Zl6vn3O93meOtMzRk9PT09PT09Pz56x3PMvffNN+Of/wze+8Y0Xdvz9H73/3NkN9hTjoJ/7x5+8OT9+kB/d8D/XvPxnH3rW2w32FPN4OgL3pHz5C7/d6/jIOgI7/e7jRsl/73W85tF1BHb63Uev4463qeOPf/xKr+M1b0lHYKfeT3nl+V5H4K3qCOwE3NHreMNj6AjsNLzmled/57lex8fU8S69jj/l7egIPD06jj//wku7oB+J737ymdnu0ocz//L3frA79x43E/P1ePH3l8Pdpe9k/j90vMtOt9fy4kd7HR/G6+r4KjsBd/Q6Ppw31/FVeh3fgLeg4w3f7nV8KL2Oj0Sv48PpddwPvY77oddxP5R/+JW/2e1XPYx/+dZL/70L+C7f+9yvP5u8Ec997fs/3J17zY/+499e+tZusIfytQ9O0929vIt5m/31T37ygz/vn1MAvY77oddxP/Q67odex/3Q67gfeh33Q6/jfuh13A+9jvvBtOef/PJr+epf//13X3zh69/8zj/83dd2b70uX/jwc521G6znQUh1/rmPf3D7kU//wirZvdXzGPQ67odex/3Q67gfeh33Q6/jfuh13A+9jvuh13E/9Druh17H/dDruB96HfdDr+N+6HXcD72O++F+HZPmfZ9+/i3y1S9+/P2/GOLdaE8vb3c+ouDZj/3JZz6wdHfHTytvf117cvbZz3+iELd2x08nb19Hm6pPff5Pm+jpnpG9jvvhUXRcPfdrbfK6Mh2azur2OXOPdsdPJ4+i429+6iu/spK7g56H0uu4Hx5Bx6Pf+syX39fR3VHPQ3lzHVH7x89/dsl3Rz0P5w11NGW9+NAnvvix9xXm7p2e1+ENddS/9OEPvXdRPN2Z+NF4lDzT8+b0Ou6HXsf90Ou4H3od90Ov437oddwPvY77oddxP/Q67odex/3Q67gfeh33Q6/jfuh13A+9jvuh13E/9Druh17H/dDruB96HfdDr+N+6HXcD72O+6HXcT+8e3R0vDD2bVdrYhg8TekRShN55Hm+51mEhJRimTB0xLR2DCNIU8f209CzpFx2v/fi7i/rPBm+/60vrH1fuVgGkeeZXErr8DCMY9sNY2U7WlPDYGnKjrw08Y8810fIwjhkDIuY42N6LyLXkmmILCH40RHSWtooCEPHswTnlmmGWrs4DIXlaY0NQ6QpOcZpLI4x9p37/g2gi5NBYHtRxAxDFgU/xkUWwEkaIZvShDEaZPBTeXT9m8NRUbh2UCTYVur0Z0DH20GgEVHRACTyg8A+PExAFxRn2oGIOIR9HRG6jgihAGObkEQIojJBryPyDCMsCs9WRUIgIv/oiERR4GD4MFxkKylt00zi2CMJfDAoiuCD8YuCmbTI/GNCAve+3xK+GEXpqGvCoKrOklTML+5oV12+58QxhtvtUJy8Z6Xc7s5FcMgvLs5QlJx3Ix2NTsZ5OfvdJ6vjf738Tx9YJcl6O2HobLthhtpuT7y0vhjHSbWYJLosz2A6zi+f0Y64s125RrndVnxxeRqg+cUmNPn5+RmJ4tvLidbVsi2UmM9mujjfVoTc3t4mRrjdznHZng+DYrqslBqPz6KB7M7PNdKbi7m9k/AGHnSrhvqzGfhTsdmkjt6cjewgGCtF4rgbDOLRGXy82WwGH+9ssxG02XQBGY2eXf3BE5+P26aZ+GE9O1EKDUcjYprdasX9xdmEitksNYx8s8lstVk3tvIb8K4w7LIsrM6KyElnM2EY081GktGmC3FVDS0rnM1GTE8XC65IVZbE87r5XIbdosJqNosNY7jZJG68ORs6YdgIGOAeASNMSEYwwxJz8JqQOmAQvn2LhjFFfqSQ44eBZ3paSYeyQApKGLxUT3o+vvKdv7gTEKoi6bkqUs4RCrVwmAwYZVxwiimShCNwT+p4QQQRkTBinh8q5PpaIcsLfOleRyThXCmZZ3GhMFORcG8GPERhyF3uBxSD+VKEObmWyFeaukhpad2670s7laZCpyElQVBw4Q3qmpq4bjLTgGmsUNbk2Ezrmtzy6rqwKR+mmlKdhbJ40jr+8KW//fmc83IcuVYxrlwDj8eZJXQdMh4MIk6UKoRwk7qhJqrH+U1EAUSYEyupKnroDYcFzIwyiyD6LPaxN0gS6g/HgeOU49Ix6Hic2CoZKuLHGdhrGBZUoHQ4pDat6sHxTsIbZHR2PmPBcpkbRr3dFm68vWydKJprDcnuLM/T9rKM3XK5lIax3G59NtueRWw6fe/px574un62bRc6mSxvQy5t2paZ5hmsU316OedquSxglmy3pRM+c2cG6XsGuTRJzobDZHJZDdxiuVSG0W23ik2364ROJo1tJ8tlK+Lu9FRqNhmNGEJnq5VK1qcTGi6XYBTNdpt56faycZOk9f2diMA8lTqtM8mTZKI0qRadsNniZGQZyWqVUMgozK67Bb+FF4uJK9WsToVMR3n4xPPMf/7r138ZXHy6KpAzWc2QwVarkaMHi9xXSQVZI44hgeDhYiks2q3GthGvVgNcLcbcGc5n8gi37cSTftvkQiRNCTO4Gg5F1K4GnteuWs+Qq9XQjctZwqOiGTCe5xMZ0BqM1RWzRfXAb1tzInxJCPiJ5dLABwtQnBLJsIm5T8EwBLxIgjHjnksV2KlUghDJp/OPPFkdX/72ly4U59yXjHGwOI9y4jEf7vBeROZ1ROKBiAhExO9GRBh7MCJiegwGZNcDMhjQIZwhGPCuRJhzaj8gETq+b2UT0UwKxOpaG0bSdaEluzaHorTgHAUB5DiVt5G0IrBIWCZdR1HRNQJl2Z3lR5/4ur6T5yX3s2rMuTvIcwismU4JH7UlpnUdGkbcdZElFrPC4ryQEvl+E0V+2kI9GEImgPzbdQxlXeN7aTowTb+ucyyvUz+HfiRBjtPUNfObUeqJugYfGHRdYKuuHdi+n9P7vo3y2vrx8oH6Ue7qx0uoHy8vH6gf0/o3/mr3jw2eDC98/S9/9WH14+VD6ke5//rx8sH6EfMKxKZlCWJHbRuYoh0PTM4zmPW+DxfLwVgLE24KuqKibbGXthX3BoPo6EiCZ3u8rErEUBKGnutWRUH9uoxcXpaQl5K2lbZqm8jyfeg5IOGVQuq8kcyE1gjaiaptPVTA9EFFER4cqKaJbNY0ucPwwPc9Qqok4XqUBrYsS+i40rblTtSOFOSNxHFomuZUJkXNmBMNBt7RUdU0iA6bDJGyDKBdaVttsnacmoymnHtSVtD5JU0orQDKw5uIiDdoK8jrSWSaoiwHSBTDIWZeAg2PbV9XkbIaJi67iShuW9+SbRNDZ5zi+75AT6EekghDQXhs0zDgiGtY+ZxSC1EJpiE5k7DECRXUsbkOoSjTPkaS02OHQjEJ3iE44Zh4lBJP+IoS3xcIC0FNm4WaIaF9igSD4oP6TEDpySWDAQm/OyBB/vWAvqBHNtU+xzyQ8EKoQyhcLH0GtR0MyAW1bGjzbwYkNwOCu8G7QsIL3ABmFDki0BBRcB2RfG1ENqZglsIH8xNwA0xQG25A30REHoxI7CLCEFEAEV1LtIvoZkCICCzSvC/TnOQqzMeFDw34DGrw0clK2nx5OraMdL1O6fh0yu1mdSJukZOTmat0N86lysdlLHkD2S3t1gMPLdZzzwjW68rLmkXC03o6oLyqZlLzyWImkYKGwDvOT05i0a4b4kzXS2qQ9bq1ZLQcxTKsRonSwTRNaXmyDh1ysm5dI1qvSzyEpYbL6Tx02WQygzjbtpE0mk1y4g6nUyhn1kPsztYdNvh6PXbC7KQMdNoMA5kkszAio+WZtOhqPbWNZL3OSAOVjTs66aBDXixmSAWLSQlza1olgo7qWiaLdeZ5i/UCGf56PfIGVZeKZDjNOEzWmdJs3HXSld3J6IF8/dj148g0B6enExat1isBelUVI+QMbDi9vWxItFxCoznZblOUby9qcPFWwqKqlkk6XFwMtFuDwRvG2TPPMLncrnzRddWtW/nl5QiFm02Htd9mGVPqbDKJhudtidLlEvLGbLuNSL09z/FwOMFY/+zUj4UiTCUBrC4/pcyNihIfo3KYHBuQu3w3GQ7QcVwW6MAtitQiLE8UJnCBwCjWGvl5LS07rzPLuM6Qth/nwvPBjV1oqlIMvpln2CZ5HlqHqiigG6hj1xzUpWu4dZ0eY15GArMwkoRRsEQ3ALMznaJOLYPXdeDoNGNOMMiY5SVJ6lKcpjF2eZoo19KDAWNZrR0rrQvHQHWdmEwVAWV+DMsbZhkDNy0rfOyW1+2HvI4oLlNkgTuTQxcmiU1onmiM/UEokBtFERZ57dsQUW4bpK4jS4a5D1Yy8BHULykB38xzbOGiiB74olnIwTV8jhAjClPoPiNseWGszAOaJMwFxTxLRaF35EahsjANfYGhDhPUc8BqEAsTZts60dYBThJhcxVSj4NLup7kyqPQh2rsIA3GfsjDiKIg8R0rSELnlpPAT8EsgkqNQIePsedDjSrChFpOmATWAYEc48jr60UQYMtVvnIJDgKFXehiuXMMZoiJTuTNgPYtL4l9i4oIrA1ukCBKFKGuHyZwbZQEu4j8OPBsPwrRsasDZcMASmLElKSeLaWPqE74TUT2AUpiaTM/hCpSKuZ5gilEPaVDbKMw8o8PDnYiAkIv11Omug4m7fDqKnOiq/OxrfU0COhgsMyyZHxeRE7RdcIwFldXkk2vlho6z8o04+WyYWG36njARmVJCVnO52pw2lUk7LrYMEZXV4mXXt0euoMB1HhiOOyipJjdjgPoKOZQfS3v3GF8cdVJPp+XBwfZ7dsV0uv1DAVyPBhAglk2jS7WkxxBbQsV7vTqKsTDq7MM8vsIIQWWqeJmcRoEqBqPqWku12tY0rdbJrsuM4zy6qqw9Z3N1A7UNAxpHC+LIh7dHsZuBjYH7dzVlU/HVyvw0VFl21HXjXk0Xy5FQEfQgyO07Do/Xi1HRHcdOFV9dTVwk6vbtQvdkoQB7vHY9aNW3XQaDM+3JSbn2zU24u22hb7yvPCHs1UpVNue6QRiWmsSnZ+32GwuLvLgdLvg7mp7KQy+3Z46Oruc5zpt52WUJKuqkuPLbeqxi+0pMtLtdswmZ+uEjVfrFMklZIxYn552WmZny4ajKXSuPyv142PvK/DDQ6gHpQ1rVtueLRizLCsMApdEmlsIluPNU3h8TNKYH0PfZdsO5xphpmLsHfEgsMBV0tS2g1Q7dhBA2oH5wk0vhvUOrkGI5TihlB6LfWpiraHe9NMUmTyNqMmYME33XbCvIA8PIWwwmDiJHeQoIWzLuq7G6SDyLRxF8MFAZoGIi1SalAau6woRQSGqU4qOZRjC55kUhQ25LXYduNWDA5Zl0kRpGlrIDRizPS9RCotBwE0aRQjCLgpsyWLAIGxlWeD87/h9hbe+rkePsK7F+OKN1rW4u64FrOvR663rd9i+Qmma0WJRUz3v5kzRKs8JxiCtH5/MhljPZlDuVZtN7CabU6hK4xHnvChmYZxNTiPlFNMpTNhus6F8tpkLKEjzg4PB2VnpqdVqipQYJQkRooPaJ1s1qRfPZlDuNZuNRsVmOUBZViHkvwv2FZDNhQ9NXMR3T+HBRbgr1O4pvIcElVBM+fCGh5UWzhGFsbGKfc9RUeAeeaEWNuUaOjzKobfErmACiSBi7s02wOHNNoDUCpoz5UPx5HPwSqp8aMpgWO4eM/9dsK8AFXEcEzUcg6cPx6VtsPE4gYp56COV5MrDcVxAl5pBPeQwaCLswxDSMcnHA8/Mx7VneONxYVJZJ5KKeKAY5zmUL2E9FpZbjQvLEONxeN0YcDfMS2HBFCwQo9AOgEBFBskuzt8F+wp9X7iffQXBakiGyWwVu167mrqGv1qV0NW3cLfDcUxYWU6EYk07hUZx1pbuUTafh3y8qrA9Xi2IgVeriSXCxTAUuqxiH3wcpkO+WGkHz1cTx9CrVY6KyVShfDzVDgUzpL6YTGpBw0mTYaeAFfOO31e4fgofCM6k/+pTeH7dP+2ewjPOHnwKj03ErxcvtJScwwmIcXxvQLgBeXcbAIxX+pxSON8mXIAxwYDgTgRTzlw4AQ5fvQHo5t75+wrJ8bEajTIk66YG9wWzRJ7XDIcsGNcD7/qRgGGkXacc3U0TKAByQqAAqH0VlVPFrWQ4hHqwWSwQqbqawjqNDw5gnSaOmE6HLqfXZklpk2UimuSho+oasiO0p9JNuol2oyh1XZgh7/h9hb4v7PcV+n2Ffl/hXb6v0LMHDON/AZM4qKXS1dzLAAAAAElFTkSuQmCC)"
      ],
      "metadata": {
        "id": "4jXrsJ7Ly-YX"
      }
    }
  ]
}